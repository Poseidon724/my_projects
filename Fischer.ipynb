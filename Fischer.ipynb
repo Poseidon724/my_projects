{
 "cells": [
  {
   "cell_type": "markdown",
   "metadata": {
    "id": "m3vONf7zIqWr"
   },
   "source": [
    "## **Features 1:** "
   ]
  },
  {
   "cell_type": "code",
   "execution_count": 1,
   "metadata": {
    "colab": {
     "base_uri": "https://localhost:8080/",
     "height": 380
    },
    "id": "nVrwy3fU280y",
    "outputId": "7c3ffce8-b7cc-4fd4-9112-0a4051a04ab7"
   },
   "outputs": [
    {
     "name": "stdout",
     "output_type": "stream",
     "text": [
      "0      1\n",
      "1      1\n",
      "2      1\n",
      "3      1\n",
      "4      1\n",
      "      ..\n",
      "564    1\n",
      "565    1\n",
      "566    1\n",
      "567    1\n",
      "568    0\n",
      "Name: diagnosis, Length: 569, dtype: int64\n"
     ]
    },
    {
     "name": "stderr",
     "output_type": "stream",
     "text": [
      "/var/folders/81/9ncd60nx1c5d_qq20fr0pck80000gp/T/ipykernel_61403/4020005211.py:32: FutureWarning: The pandas.np module is deprecated and will be removed from pandas in a future version. Import numpy directly instead.\n",
      "  mean_value = data[column].replace(0, pd.np.nan).mean()\n"
     ]
    }
   ],
   "source": [
    "import pandas as pd\n",
    "\n",
    "def debug(testCase):\n",
    "    if(testCase==1):\n",
    "        #print(\"Test Passed\")\n",
    "        print(\"\",end=\"\")\n",
    "\n",
    "    else:\n",
    "        #print(\"Test Failed\")\n",
    "        print(\"\",end=\"\")\n",
    "\n",
    "# Load the data from a CSV file\n",
    "data = pd.read_csv(\"data.csv\")\n",
    "data.to_csv(\"edited_data.csv\")\n",
    "debug(1)\n",
    "# Iterate through each column\n",
    "for column in data.columns:\n",
    "    # Check if the column has any missing or zero values\n",
    "    if data[column].isna().sum() + (data[column] == 0).sum() > 0:\n",
    "        # Check if the column is categorical\n",
    "        if data[column].dtype == 'object':\n",
    "            # Impute missing and zero values with the most frequent value\n",
    "            mode_value = data[column].mode()[0]\n",
    "            data[column].fillna(mode_value, inplace=True)\n",
    "            data[column] = data[column].replace(0, mode_value)\n",
    "            debug(1)\n",
    "\n",
    "           # print(\"Column '{}' has been updated. Missing or zero values before: {}. Missing or zero values after: {}. Imputed with value: {}\".format(column, data[column].isna().sum() + (data[column] == 0).sum(), data[column].isna().sum() + (data[column] == 0).sum(), mode_value))\n",
    "        # Otherwise, assume it's a continuous numerical value\n",
    "        else:\n",
    "            # Impute missing and zero values with the mean value\n",
    "            mean_value = data[column].replace(0, pd.np.nan).mean()\n",
    "            data[column].fillna(mean_value, inplace=True)\n",
    "            debug(1)\n",
    "\n",
    "            data[column] = data[column].replace(0, mean_value)\n",
    "          #  print(\"Column '{}' has been updated. Missing or zero values before: {}. Missing or zero values after: {}. Imputed with value: {}\".format(column, data[column].isna().sum() + (data[column] == 0).sum(), data[column].isna().sum() + (data[column] == 0).sum(), mean_value))\n",
    "\n",
    "# Save the updated data to the original CSV file\n",
    "\n",
    "data[\"diagnosis\"] = (data[\"diagnosis\"] ==\"M\").astype(int)\n",
    "data.to_csv(\"edited_data.csv\", index=False)\n",
    "debug(1)\n",
    "\n",
    "\n",
    "# Print the updated data\n",
    "print(data[\"diagnosis\"])\n"
   ]
  },
  {
   "cell_type": "code",
   "execution_count": null,
   "metadata": {
    "id": "5HONSNLo4bCL"
   },
   "outputs": [],
   "source": []
  },
  {
   "cell_type": "markdown",
   "metadata": {
    "id": "cPsLVpOWIx3v"
   },
   "source": [
    "**## Feature 2:**"
   ]
  },
  {
   "cell_type": "code",
   "execution_count": 2,
   "metadata": {
    "colab": {
     "base_uri": "https://localhost:8080/",
     "height": 380
    },
    "id": "k67BTzfIHQjj",
    "outputId": "4a4da6c5-e186-44b8-dcea-bfbc1f07f8a1"
   },
   "outputs": [],
   "source": [
    "import pandas as pd\n",
    "import numpy as np\n",
    "\n",
    "# load the dataset as a Pandas DataFrame\n",
    "df = pd.read_csv('edited_data.csv')\n",
    "\n",
    "# extract the numeric columns except the first two columns and convert to a Numpy array\n",
    "numeric_cols = df.iloc[:, 2:].select_dtypes(include=[np.number]).columns\n",
    "dataset = df[numeric_cols].values\n",
    "debug(1)\n",
    "\n",
    "# calculate the mean and standard deviation of each feature\n",
    "mu = np.mean(dataset, axis=0)\n",
    "sigma = np.std(dataset, axis=0)\n",
    "debug(1)\n",
    "\n",
    "\n",
    "# apply feature normalization\n",
    "normalized_dataset = (dataset - mu) / sigma\n",
    "\n",
    "# update the original DataFrame with the normalized values\n",
    "df.loc[:, numeric_cols] = normalized_dataset\n",
    "\n",
    "\n",
    "# save the normalized dataset back to the normData.csv file\n",
    "df.to_csv('normData.csv', index=False)\n",
    "debug(1)\n",
    "\n"
   ]
  },
  {
   "cell_type": "markdown",
   "metadata": {
    "id": "4mUaz9R6Flnp"
   },
   "source": [
    "# **\"Task 1\"**"
   ]
  },
  {
   "cell_type": "markdown",
   "metadata": {
    "id": "48Y4TtWfCssK"
   },
   "source": [
    "A traditional method for linear classification issues is the Fisher's linear discriminant model (FLDM). It reduces the high-dimensional feature space to a lower-dimensional space where a decision boundary dividing the positive and negative classes is simpler to locate.\n",
    "\n",
    "We used FLDM in Learning Task 1 to take the initial 32-dimensional dataset and reduce it to a univariate issue. In order to discover the decision boundary, we employed a generative technique and assumed Gaussian distributions for both the positive and negative classes in the univariate dimension.\n",
    "\n",
    "In Learning Task 2, we randomised the feature order in the dataset at random before using FLDM once more to the jumbled dataset. We assumed Gaussian distributions for both the positive and negative classes and applied the same generative method to locate the decision boundary in the univariate dimension."
   ]
  },
  {
   "cell_type": "code",
   "execution_count": 3,
   "metadata": {
    "id": "zgoMgzAU7lX2"
   },
   "outputs": [
    {
     "data": {
      "image/png": "[encoded data removed]",
      "text/plain": [
       "<Figure size 640x480 with 1 Axes>"
      ]
     },
     "metadata": {},
     "output_type": "display_data"
    },
    {
     "name": "stdout",
     "output_type": "stream",
     "text": [
      "Accuracy: 0.93617021\n"
     ]
    }
   ],
   "source": [
    "import numpy as np\n",
    "import pandas as pd\n",
    "import matplotlib.pyplot as plt\n",
    "\n",
    "# load the dataset\n",
    "data = pd.read_csv('edited_data.csv')\n",
    "\n",
    "# extract the features and labels\n",
    "X = data.iloc[:, 2:].values\n",
    "y = data.iloc[:, 1].values\n",
    "\n",
    "# split the data into training and testing sets\n",
    "np.random.seed(1)\n",
    "indices = np.random.permutation(len(X))\n",
    "train_size = int(0.67 * len(X))\n",
    "train_indices = indices[:train_size]\n",
    "debug(1)\n",
    "test_indices = indices[train_size:]\n",
    "X_train = X[train_indices]\n",
    "y_train = y[train_indices]\n",
    "debug(1)\n",
    "X_test = X[test_indices]\n",
    "y_test = y[test_indices]\n",
    "\n",
    "# calculate the means for the positive and negative classes\n",
    "mu_pos = np.mean(X_train[y_train == 1], axis=0)\n",
    "mu_neg = np.mean(X_train[y_train == 0], axis=0)\n",
    "\n",
    "# calculate the standard deviations for the positive and negative classes\n",
    "sigma_pos = np.std(X_train[y_train == 1], axis=0, ddof=1)\n",
    "sigma_neg = np.std(X_train[y_train == 0], axis=0, ddof=1)\n",
    "\n",
    "# calculate the pooled within-class variance\n",
    "sigma_pooled = (np.square(sigma_pos) + np.square(sigma_neg)) / 2\n",
    "\n",
    "# calculate the Fisher's Linear Discriminant direction\n",
    "w = (mu_pos - mu_neg) / sigma_pooled\n",
    "w = w / np.linalg.norm(w)\n",
    "\n",
    "# project the training data onto the Fisher's Linear Discriminant direction\n",
    "X_train_lda = np.dot(X_train, w)\n",
    "\n",
    "# calculate the means and standard deviations for the positive and negative classes in the reduced space\n",
    "mu_pos_lda = np.mean(X_train_lda[y_train == 1])\n",
    "mu_neg_lda = np.mean(X_train_lda[y_train == 0])\n",
    "debug(1)\n",
    "sigma_pos_lda = np.std(X_train_lda[y_train == 1], ddof=1)\n",
    "sigma_neg_lda = np.std(X_train_lda[y_train == 0], ddof=1)\n",
    "\n",
    "# calculate the decision boundary\n",
    "threshold = (mu_pos_lda + mu_neg_lda) / 2\n",
    "\n",
    "# plot the data points and decision boundary\n",
    "plt.scatter(X_train_lda[y_train == 1], np.zeros_like(X_train_lda[y_train == 1]), label='positive')\n",
    "plt.scatter(X_train_lda[y_train == 0], np.zeros_like(X_train_lda[y_train == 0]), label='negative')\n",
    "debug(1)\n",
    "plt.axvline(x=threshold, color='red', linestyle='--', label='decision boundary')\n",
    "plt.legend()\n",
    "plt.show()\n",
    "debug(1)\n",
    "\n",
    "# project the testing data onto the Fisher's Linear Discriminant direction\n",
    "X_test_lda = np.dot(X_test, w)\n",
    "\n",
    "# predict the class labels for the testing data\n",
    "y_pred = (X_test_lda >= threshold).astype(int)\n",
    "\n",
    "# evaluate the accuracy of the model\n",
    "accuracy = np.mean(y_pred == y_test)\n",
    "print(f\"Accuracy: {accuracy:.8f}\")"
   ]
  },
  {
   "cell_type": "markdown",
   "metadata": {
    "id": "QZAI3dxwFcDw"
   },
   "source": [
    "### **Task 2:**"
   ]
  },
  {
   "cell_type": "markdown",
   "metadata": {
    "id": "mnjGIPc33amR"
   },
   "source": [
    "We have now developed the Fisher's Linear Discriminant model (FLDM2) using the shuffled training data and used a generative method to identify the decision boundary in the univariate dimension. Now that we have testing data, we can compare how FLDM1 and FLDM2 performed."
   ]
  },
  {
   "cell_type": "code",
   "execution_count": 4,
   "metadata": {
    "id": "F3VTs9WaAWna"
   },
   "outputs": [
    {
     "data": {
      "image/png": "[encoded data removed]",
      "text/plain": [
       "<Figure size 640x480 with 1 Axes>"
      ]
     },
     "metadata": {},
     "output_type": "display_data"
    },
    {
     "name": "stdout",
     "output_type": "stream",
     "text": [
      "Accuracy: 0.93085106\n"
     ]
    }
   ],
   "source": [
    "\n",
    "import numpy as np\n",
    "import pandas as pd\n",
    "import matplotlib.pyplot as plt\n",
    "\n",
    "# load the dataset\n",
    "data = pd.read_csv('edited_data.csv')\n",
    "\n",
    "# randomly permute the feature columns\n",
    "feature_cols = data.columns[2:]\n",
    "np.random.seed(2)\n",
    "permuted_cols = np.random.permutation(feature_cols)\n",
    "data = data[['id', 'diagnosis'] + list(permuted_cols)]\n",
    "debug(1)\n",
    "  \n",
    "\n",
    "# if set(permuted_cols) == set(feature_cols):\n",
    "#     print(\"The permuted_cols are the same as the original feature_cols.\")\n",
    "# else:\n",
    "#     print(\"The permuted_cols are different from the original feature_cols.\")\n",
    "\n",
    "\n",
    "# extract the features and labels\n",
    "X = data.iloc[:, 2:].values\n",
    "y = data.iloc[:, 1].values\n",
    "\n",
    "# split the data into training and testing sets\n",
    "np.random.seed(40)\n",
    "indices = np.random.permutation(len(X))\n",
    "train_size = int(0.67 * len(X))\n",
    "train_indices = indices[:train_size]\n",
    "test_indices = indices[train_size:]\n",
    "debug(1)\n",
    "X_train = X[train_indices]\n",
    "y_train = y[train_indices]\n",
    "X_test = X[test_indices]\n",
    "y_test = y[test_indices]\n",
    "\n",
    "# calculate the means for the positive and negative classes\n",
    "mu_pos = np.mean(X_train[y_train == 1], axis=0)\n",
    "mu_neg = np.mean(X_train[y_train == 0], axis=0)\n",
    "debug(1)\n",
    "\n",
    "# calculate the standard deviations for the positive and negative classes\n",
    "sigma_pos = np.std(X_train[y_train == 1], axis=0, ddof=1)\n",
    "sigma_neg = np.std(X_train[y_train == 0], axis=0, ddof=1)\n",
    "\n",
    "# calculate the Fisher's Linear Discriminant direction for univariate data\n",
    "sigma_pooled = (np.square(sigma_pos) + np.square(sigma_neg)) / 2\n",
    "w = (mu_pos - mu_neg) / sigma_pooled\n",
    "debug(1)\n",
    "w = w / np.linalg.norm(w)\n",
    "\n",
    "# project the training data onto the Fisher's Linear Discriminant direction\n",
    "X_train_lda = np.dot(X_train, w)\n",
    "\n",
    "# calculate the means and standard deviations for the positive and negative classes in the reduced space\n",
    "mu_pos_lda = np.mean(X_train_lda[y_train == 1])\n",
    "mu_neg_lda = np.mean(X_train_lda[y_train == 0])\n",
    "sigma_pos_lda = np.std(X_train_lda[y_train == 1], ddof=1)\n",
    "sigma_neg_lda = np.std(X_train_lda[y_train == 0], ddof=1)\n",
    "\n",
    "# calculate the decision boundary\n",
    "threshold = (mu_pos_lda + mu_neg_lda) / 2\n",
    "\n",
    "# plot the data points and decision boundary\n",
    "plt.scatter(X_train_lda[y_train == 1], np.zeros_like(X_train_lda[y_train == 1]), label='positive')\n",
    "plt.scatter(X_train_lda[y_train == 0], np.zeros_like(X_train_lda[y_train == 0]), label='negative')\n",
    "plt.axvline(x=threshold, color='red', linestyle='--', label='decision boundary')\n",
    "debug(1)\n",
    "plt.legend()\n",
    "plt.show()\n",
    "\n",
    "# project the testing data onto the Fisher's Linear Discriminant direction\n",
    "X_test_lda = np.dot(X_test, w)\n",
    "\n",
    "# predict the class labels for the testing data\n",
    "y_pred = (X_test_lda >= threshold).astype(int)\n",
    "\n",
    "# evaluate the accuracy of the model\n",
    "accuracy = np.mean(y_pred == y_test)\n",
    "debug(1)\n",
    "print(f\"Accuracy: {accuracy:.8f}\")\n"
   ]
  },
  {
   "cell_type": "markdown",
   "metadata": {
    "id": "1V2SY4jsJWxX"
   },
   "source": [
    "This code determines the FLDM1 and FLDM2 testing data correctness. We can observe that the accuracy of FLDM1 is higher than FLDM2, which shows that the initial order of features in the dataset was better suited for FLDA. This demonstrates how crucial feature engineering and feature selection are in machine learning."
   ]
  },
  {
   "cell_type": "markdown",
   "metadata": {
    "id": "CZQ1G7g2NlDu"
   },
   "source": [
    "**10 Random Sampling for FLDM1**"
   ]
  },
  {
   "cell_type": "code",
   "execution_count": 7,
   "metadata": {
    "id": "DWInoBsfNWT5"
   },
   "outputs": [
    {
     "name": "stdout",
     "output_type": "stream",
     "text": [
      "0.9148936170212766\n",
      "0.9202127659574468\n",
      "0.9468085106382979\n",
      "0.9627659574468085\n",
      "0.9361702127659575\n",
      "0.9414893617021277\n",
      "0.925531914893617\n",
      "0.9202127659574468\n",
      "0.9308510638297872\n",
      "0.9414893617021277\n",
      "Mean accuracy of FLDM1: 0.93404255\n",
      "Standard deviation of FLDM1: 0.01391138\n"
     ]
    }
   ],
   "source": [
    "import numpy as np\n",
    "import pandas as pd\n",
    "import matplotlib.pyplot as plt\n",
    "\n",
    "# load the dataset\n",
    "data = pd.read_csv('edited_data.csv')\n",
    "\n",
    "accuracies = []\n",
    "\n",
    "for i in range(10, 20 , 1):\n",
    "    # split the data into training and testing sets\n",
    "    np.random.seed(i)\n",
    "    indices = np.random.permutation(len(data))\n",
    "    train_size = int(0.67 * len(data))\n",
    "    train_indices = indices[:train_size]\n",
    "    test_indices = indices[train_size:]\n",
    "    debug(1)\n",
    "    X_train = data.iloc[train_indices, 2:].values\n",
    "    y_train = data.iloc[train_indices, 1].values\n",
    "    X_test = data.iloc[test_indices, 2:].values\n",
    "    y_test = data.iloc[test_indices, 1].values\n",
    "\n",
    "    # calculate the means for the positive and negative classes\n",
    "    mu_pos = np.mean(X_train[y_train == 1], axis=0)\n",
    "    mu_neg = np.mean(X_train[y_train == 0], axis=0)\n",
    "\n",
    "    # calculate the standard deviations for the positive and negative classes\n",
    "    sigma_pos = np.std(X_train[y_train == 1], axis=0, ddof=1)\n",
    "    sigma_neg = np.std(X_train[y_train == 0], axis=0, ddof=1)\n",
    "    debug(1)\n",
    "\n",
    "\n",
    "    # calculate the pooled within-class variance\n",
    "    sigma_pooled = (np.square(sigma_pos) + np.square(sigma_neg)) / 2\n",
    "\n",
    "    # calculate the Fisher's Linear Discriminant direction\n",
    "    w = (mu_pos - mu_neg) / sigma_pooled\n",
    "    w = w / np.linalg.norm(w)\n",
    "\n",
    "    # project the training data onto the Fisher's Linear Discriminant direction\n",
    "    X_train_lda = np.dot(X_train, w)\n",
    "\n",
    "    # calculate the means and standard deviations for the positive and negative classes in the reduced space\n",
    "    mu_pos_lda = np.mean(X_train_lda[y_train == 1])\n",
    "    mu_neg_lda = np.mean(X_train_lda[y_train == 0])\n",
    "    debug(1)\n",
    "\n",
    "    sigma_pos_lda = np.std(X_train_lda[y_train == 1], ddof=1)\n",
    "    sigma_neg_lda = np.std(X_train_lda[y_train == 0], ddof=1)\n",
    "\n",
    "    # calculate the decision boundary\n",
    "    threshold = (mu_pos_lda + mu_neg_lda) / 2\n",
    "\n",
    "    # project the testing data onto the Fisher's Linear Discriminant direction\n",
    "    X_test_lda = np.dot(X_test, w)\n",
    "    debug(1)\n",
    "    \n",
    "\n",
    "    # predict the class labels for the testing data\n",
    "    y_pred = (X_test_lda >= threshold).astype(int)\n",
    "\n",
    "    # evaluate the accuracy of the model\n",
    "    accuracy = np.mean(y_pred == y_test)\n",
    "    print(accuracy)\n",
    "    debug(1)\n",
    "\n",
    "    accuracies.append(accuracy)\n",
    "\n",
    "print(f\"Mean accuracy of FLDM1: {np.mean(accuracies):.8f}\")\n",
    "print(f\"Standard deviation of FLDM1: {np.std(accuracies):.8f}\")\n"
   ]
  },
  {
   "cell_type": "markdown",
   "metadata": {
    "id": "OKroAjNyN-uL"
   },
   "source": [
    "# **10 Random Sampling for FLDM2**"
   ]
  },
  {
   "cell_type": "code",
   "execution_count": 9,
   "metadata": {
    "id": "08sfquA0N1YR"
   },
   "outputs": [
    {
     "name": "stdout",
     "output_type": "stream",
     "text": [
      "0.9148936170212766\n",
      "0.9202127659574468\n",
      "0.9468085106382979\n",
      "0.9627659574468085\n",
      "0.9361702127659575\n",
      "0.9414893617021277\n",
      "0.925531914893617\n",
      "0.9202127659574468\n",
      "0.9308510638297872\n",
      "0.9414893617021277\n",
      "Mean accuracy: 0.93404255\n",
      "Standard deviation: 0.01391138\n"
     ]
    }
   ],
   "source": [
    "\n",
    "import numpy as np\n",
    "import pandas as pd\n",
    "import matplotlib.pyplot as plt\n",
    "\n",
    "# load the dataset\n",
    "data = pd.read_csv('edited_data.csv')\n",
    "accuracies = []\n",
    "\n",
    "\n",
    "# randomly permute the feature columns\n",
    "feature_cols = data.columns[2:]\n",
    "\n",
    "np.random.seed(1)\n",
    "permuted_cols = np.random.permutation(feature_cols)\n",
    "data = data[['id', 'diagnosis'] + list(permuted_cols)]\n",
    "        \n",
    " # if set(permuted_cols) == set(feature_cols):\n",
    "#     print(\"The permuted_cols are the same as the original feature_cols.\")\n",
    "# else:\n",
    " #     print(\"The permuted_cols are different from the original feature_cols.\")\n",
    "\n",
    "\n",
    "# extract the features and labels\n",
    "X = data.iloc[:, 2:].values\n",
    "y = data.iloc[:, 1].values\n",
    "\n",
    "for i in range(10,20,1):\n",
    "    # split the data into training and testing sets\n",
    "    np.random.seed(i)\n",
    "    indices = np.random.permutation(len(X))\n",
    "    train_size = int(0.67 * len(X))\n",
    "    train_indices = indices[:train_size]\n",
    "    test_indices = indices[train_size:]\n",
    "    X_train = X[train_indices]\n",
    "    y_train = y[train_indices]\n",
    "    X_test = X[test_indices]\n",
    "    y_test = y[test_indices]\n",
    "\n",
    "    # calculate the means for the positive and negative classes\n",
    "    mu_pos = np.mean(X_train[y_train == 1], axis=0)\n",
    "    mu_neg = np.mean(X_train[y_train == 0], axis=0)\n",
    "\n",
    "    # calculate the standard deviations for the positive and negative classes\n",
    "    sigma_pos = np.std(X_train[y_train == 1], axis=0, ddof=1)\n",
    "    sigma_neg = np.std(X_train[y_train == 0], axis=0, ddof=1)\n",
    "\n",
    "    # calculate the Fisher's Linear Discriminant direction for univariate data\n",
    "    sigma_pooled = (np.square(sigma_pos) + np.square(sigma_neg)) / 2\n",
    "    w = (mu_pos - mu_neg) / sigma_pooled\n",
    "    w = w / np.linalg.norm(w)\n",
    "\n",
    "    # project the training data onto the Fisher's Linear Discriminant direction\n",
    "    X_train_lda = np.dot(X_train, w)\n",
    "\n",
    "    # calculate the means and standard deviations for the positive and negative classes in the reduced space\n",
    "    mu_pos_lda = np.mean(X_train_lda[y_train == 1])\n",
    "    mu_neg_lda = np.mean(X_train_lda[y_train == 0])\n",
    "    sigma_pos_lda = np.std(X_train_lda[y_train == 1], ddof=1)\n",
    "    sigma_neg_lda = np.std(X_train_lda[y_train == 0], ddof=1)\n",
    "\n",
    "    # calculate the decision boundary\n",
    "    threshold = (mu_pos_lda + mu_neg_lda) / 2\n",
    "\n",
    "   \n",
    "\n",
    "    # project the testing data onto the Fisher's Linear Discriminant direction\n",
    "    X_test_lda = np.dot(X_test, w)\n",
    "\n",
    "    # predict the class labels for the testing data\n",
    "    y_pred = (X_test_lda >= threshold).astype(int)\n",
    "\n",
    "\n",
    "    accuracy = np.mean(y_pred == y_test)\n",
    "    print(accuracy)\n",
    "    accuracies.append(accuracy)\n",
    "\n",
    "print(f\"Mean accuracy: {np.mean(accuracies):.8f}\")\n",
    "print(f\"Standard deviation: {np.std(accuracies):.8f}\")\n"
   ]
  }
 ],
 "metadata": {
  "colab": {
   "provenance": []
  },
  "kernelspec": {
   "display_name": "Python 3 (ipykernel)",
   "language": "python",
   "name": "python3"
  },
  "language_info": {
   "codemirror_mode": {
    "name": "ipython",
    "version": 3
   },
   "file_extension": ".py",
   "mimetype": "text/x-python",
   "name": "python",
   "nbconvert_exporter": "python",
   "pygments_lexer": "ipython3",
   "version": "3.9.13"
  }
 },
 "nbformat": 4,
 "nbformat_minor": 1
}
